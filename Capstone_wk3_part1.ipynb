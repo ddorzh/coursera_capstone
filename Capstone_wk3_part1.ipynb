{
 "cells": [
  {
   "cell_type": "markdown",
   "metadata": {},
   "source": [
    "# Part 1 of Coursera Capstone project. \n",
    "\n",
    "Scraping Toronto postcodes from Wikipedia, cleaning and aggregating data at postal code level"
   ]
  },
  {
   "cell_type": "code",
   "execution_count": 3,
   "metadata": {},
   "outputs": [],
   "source": [
    "import pandas as pd \n",
    "import requests \n",
    "from bs4 import BeautifulSoup #HTML scraper\n",
    "\n",
    "pd.set_option('display.max_columns', None)\n",
    "pd.set_option('display.max_rows', None)"
   ]
  },
  {
   "cell_type": "markdown",
   "metadata": {},
   "source": [
    "Accessing and parsing Wikipedia page:"
   ]
  },
  {
   "cell_type": "code",
   "execution_count": 4,
   "metadata": {},
   "outputs": [],
   "source": [
    "source = requests.get('https://en.wikipedia.org/wiki/List_of_postal_codes_of_Canada:_M').text\n",
    "soup = BeautifulSoup(source, 'lxml')"
   ]
  },
  {
   "cell_type": "markdown",
   "metadata": {},
   "source": [
    "Locate table of interest and iterate through it to pull in cell values: "
   ]
  },
  {
   "cell_type": "code",
   "execution_count": 5,
   "metadata": {},
   "outputs": [],
   "source": [
    "postcode_table_scrape = soup.table.tbody.find_all('td') \n",
    "table_read = [] #One long list contains all cell values from the table\n",
    "\n",
    "for item in postcode_table_scrape:\n",
    "    table_read.append(item.text)"
   ]
  },
  {
   "cell_type": "markdown",
   "metadata": {},
   "source": [
    "Breaking down long list to three short lists. One for each column.\n",
    "(There must be an easier way of doing this)"
   ]
  },
  {
   "cell_type": "code",
   "execution_count": 6,
   "metadata": {},
   "outputs": [],
   "source": [
    "postcode = []\n",
    "borough = []\n",
    "neighbourhood = []\n",
    "\n",
    "for i in range(0, len(table_read)):\n",
    "    column_index = i%3\n",
    "    if column_index == 0: \n",
    "        postcode.append(table_read[i])\n",
    "    elif column_index == 1: \n",
    "        borough.append(table_read[i])\n",
    "    else:\n",
    "        neighbourhood.append(table_read[i].rstrip().strip(']'))"
   ]
  },
  {
   "cell_type": "markdown",
   "metadata": {},
   "source": [
    "Assembling pandas dataframe from lists, and giving clean column headers"
   ]
  },
  {
   "cell_type": "code",
   "execution_count": 22,
   "metadata": {},
   "outputs": [],
   "source": [
    "df_postcode = pd.DataFrame({\n",
    "    'PostalCode': postcode,\n",
    "    'Borough': borough,\n",
    "    'Neighborhood': neighbourhood\n",
    "    })"
   ]
  },
  {
   "cell_type": "markdown",
   "metadata": {},
   "source": [
    "1. Dropping rows where Borough is 'Not assigned'. \n",
    "2. Replacing 'Not assigned' in Neighborhood with Borough name\n",
    "3. Aggregating at PostalCode concatenating Neighbourhood names into one string."
   ]
  },
  {
   "cell_type": "code",
   "execution_count": 24,
   "metadata": {},
   "outputs": [],
   "source": [
    "#Removing where Borough is not assigned\n",
    "df_postcode = df_postcode[df_postcode['Borough'] != 'Not assigned'].reset_index(drop=True)\n",
    "\n",
    "#Replacing Not Assigned Neighbourhood with Boroug values.\n",
    "for i in range(0, len(df_postcode)):\n",
    "    if df_postcode['Neighborhood'].iloc[i] == 'Not assigned': \n",
    "        df_postcode['Neighborhood'].iloc[i] = df_postcode['Borough'].iloc[i]\n",
    "\n",
    "#Concatenating Neighbourhood strings to bring dataframe to PostalCode level\n",
    "df_compressed = pd.DataFrame(\n",
    "        df_postcode.groupby(['PostalCode', 'Borough'])['Neighborhood'].apply(lambda x: \"%s\" %', '.join(x))\n",
    ").reset_index()\n",
    "                                                                            "
   ]
  },
  {
   "cell_type": "code",
   "execution_count": 9,
   "metadata": {},
   "outputs": [],
   "source": [
    "#Checking that strings haven't been truncated:\n",
    "df_compressed.to_csv('output.csv')"
   ]
  },
  {
   "cell_type": "code",
   "execution_count": 26,
   "metadata": {},
   "outputs": [
    {
     "data": {
      "text/plain": [
       "(103, 3)"
      ]
     },
     "execution_count": 26,
     "metadata": {},
     "output_type": "execute_result"
    }
   ],
   "source": [
    "df_compressed.shape"
   ]
  }
 ],
 "metadata": {
  "kernelspec": {
   "display_name": "Python 3",
   "language": "python",
   "name": "python3"
  },
  "language_info": {
   "codemirror_mode": {
    "name": "ipython",
    "version": 3
   },
   "file_extension": ".py",
   "mimetype": "text/x-python",
   "name": "python",
   "nbconvert_exporter": "python",
   "pygments_lexer": "ipython3",
   "version": "3.6.5"
  }
 },
 "nbformat": 4,
 "nbformat_minor": 2
}
